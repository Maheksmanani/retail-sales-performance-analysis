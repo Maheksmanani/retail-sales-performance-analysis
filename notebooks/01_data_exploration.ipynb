# --- Imports ---
import pandas as pd
import matplotlib.pyplot as plt
import seaborn as sns

# --- Load the data ---
df = pd.read_csv('../data/2019-Oct.csv')  # Update the path if needed
df.head()
df['event_time'] = pd.to_datetime(df['event_time'])
df = df[df['event_type'] == 'purchase']
df.dropna(subset=['product_id', 'category_code', 'price'], inplace=True)
df.head()
df['date'] = df['event_time'].dt.date
daily_sales = df.groupby('date')['price'].sum().reset_index()

plt.figure(figsize=(12,5))
sns.lineplot(data=daily_sales, x='date', y='price')
plt.title('Daily Revenue')
plt.xlabel('Date')
plt.ylabel('Revenue ($)')
plt.xticks(rotation=45)
plt.tight_layout()
plt.show()
